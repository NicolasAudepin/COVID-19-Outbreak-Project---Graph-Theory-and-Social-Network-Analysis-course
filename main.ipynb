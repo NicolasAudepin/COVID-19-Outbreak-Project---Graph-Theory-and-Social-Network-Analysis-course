{
 "cells": [
  {
   "cell_type": "code",
   "execution_count": 1,
   "metadata": {},
   "outputs": [],
   "source": [
    "import networkx as nx\n",
    "import pandas as pd\n",
    "import matplotlib.pyplot as plt\n",
    "from itertools import combinations"
   ]
  },
  {
   "cell_type": "markdown",
   "metadata": {},
   "source": [
    "# Loading data"
   ]
  },
  {
   "cell_type": "code",
   "execution_count": 2,
   "metadata": {},
   "outputs": [
    {
     "name": "stdout",
     "output_type": "stream",
     "text": [
      "nb_children                                                 3085\n",
      "nb_adults                                                   6960\n",
      "type           two_parent_familytwo_parent_familytwo_parent_f...\n",
      "size                                                       10045\n",
      "dtype: object\n"
     ]
    }
   ],
   "source": [
    "df_pro_contacts_adults = pd.read_csv(\"pro_contacts_adults.csv\", index_col=0)\n",
    "df_pro_contacts_children = pd.read_csv(\"pro_contacts_children.csv\", index_col=0)\n",
    "df_households = pd.read_csv(\"households.csv\", index_col=0)\n",
    "\n",
    "\n",
    "#infos\n",
    "print(df_households.sum())\n",
    "#df_households.describe()\n",
    "#df_pro_contacts_children.describe()\n",
    "#df_pro_contacts_adults.describe()\n",
    "\n",
    "\n"
   ]
  },
  {
   "cell_type": "markdown",
   "metadata": {},
   "source": [
    "# Initializing the graph\n",
    "\n",
    "We start by defining the classes whose instances will be the nodes of our graph"
   ]
  },
  {
   "cell_type": "code",
   "execution_count": 3,
   "metadata": {},
   "outputs": [],
   "source": [
    "class Person():\n",
    "    def __init__(self, person_id, state, age):\n",
    "        self.person_id = person_id\n",
    "        self.age = age\n",
    "        self.state = state\n",
    "    \n",
    "    def __str__(self):\n",
    "        s = \"Person #{}\".format(self.person_id)\n",
    "        return(s)\n",
    "    \n",
    "    def __repr__(self):\n",
    "        s = \"Person #{}\".format(self.person_id)\n",
    "        return(s)\n",
    "\n",
    "class Adult(Person):\n",
    "    def __init__(self, person_id, state, job_cat, pro_contacts, company_id):\n",
    "        super().__init__(person_id, state, \"adult\")\n",
    "        self.job_cat = job_cat\n",
    "        self.pro_contacts = pro_contacts\n",
    "        self.company_id = company_id\n",
    "\n",
    "class Child(Person):\n",
    "    def __init__(self, person_id, state, school_contacts, school_id):\n",
    "        super().__init__(person_id, state, \"child\")\n",
    "        self.job_cat = job_cat\n",
    "        self.school_contacts = school_contacts\n",
    "        self.school_id = school_id"
   ]
  },
  {
   "cell_type": "markdown",
   "metadata": {},
   "source": [
    "We create an empty graph into which we add nodes from the pro_contacts dataframes."
   ]
  },
  {
   "cell_type": "code",
   "execution_count": 4,
   "metadata": {},
   "outputs": [],
   "source": [
    "G = nx.Graph()\n",
    "people = [] # we'll store Person objects here too in order to be able to access them quickly with person_id\n",
    "\n",
    "for i, row in df_pro_contacts_adults.iterrows(): #We add adults to the nodes\n",
    "    person_id = row.adult_id\n",
    "    state = \"S\"\n",
    "    job_cat = row.job_cat\n",
    "    pro_contacts = row.pro_contacts\n",
    "    company_id = row.company_id\n",
    "    \n",
    "    adult_node = Adult(person_id, state, job_cat, pro_contacts, company_id)\n",
    "    G.add_node(adult_node)\n",
    "    people.append(adult_node)\n",
    "    \n",
    "for i, row in df_pro_contacts_children.iterrows(): #We add childrens to the nodes\n",
    "    person_id = row.child_id\n",
    "    state = \"S\"\n",
    "    school_contacts = row.school_contacts\n",
    "    school_id = row.school_id\n",
    "    \n",
    "    child_node = Child(person_id, state, school_contacts, school_id)\n",
    "    G.add_node(child_node)\n",
    "    people.append(child_node)\n",
    "\n",
    "    #print(G.nodes())\n",
    "    \n"
   ]
  },
  {
   "cell_type": "markdown",
   "metadata": {},
   "source": [
    "# Creating cliques for households"
   ]
  },
  {
   "cell_type": "code",
   "execution_count": 12,
   "metadata": {},
   "outputs": [
    {
     "name": "stderr",
     "output_type": "stream",
     "text": [
      "C:\\Users\\nicol\\Anaconda3\\lib\\site-packages\\networkx\\drawing\\nx_pylab.py:579: MatplotlibDeprecationWarning: \n",
      "The iterable function was deprecated in Matplotlib 3.1 and will be removed in 3.3. Use np.iterable instead.\n",
      "  if not cb.iterable(width):\n"
     ]
    },
    {
     "data": {
      "text/plain": [
       "<matplotlib.collections.LineCollection at 0x29c7270de48>"
      ]
     },
     "execution_count": 12,
     "metadata": {},
     "output_type": "execute_result"
    },
    {
     "data": {
      "image/png": "[encoded data removed]",
      "text/plain": [
       "<Figure size 432x288 with 1 Axes>"
      ]
     },
     "metadata": {},
     "output_type": "display_data"
    }
   ],
   "source": [
    "n_households = max(max(df_pro_contacts_children.index), max(df_pro_contacts_adults.index))\n",
    "for id_household in range(n_households):\n",
    "    df_household_adults = df_pro_contacts_adults.loc[df_pro_contacts_adults.index == id_household]\n",
    "    household_adults = df_household_adults.adult_id\n",
    "    \n",
    "    df_household_children = df_pro_contacts_children.loc[df_pro_contacts_children.index == id_household]\n",
    "    household_children = df_household_children.child_id\n",
    "    \n",
    "    household_people_ids = list(household_children) + list(household_adults)\n",
    "    for edge in combinations(household_people_ids, 2):\n",
    "        a = people[edge[0]]\n",
    "        b = people[edge[1]]\n",
    "        G.add_edge(a, b)\n",
    "        G[a][b][\"type\"] = \"household\"\n",
    "        G[a][b][\"id\"] = id_household\n",
    "        \n",
    "\n",
    "        \n",
    "pos = nx.spring_layout(G, iterations=5)\n",
    "nx.draw_networkx_nodes(G,pos)\n",
    "nx.draw_networkx_edges(G, pos)\n",
    "    "
   ]
  },
  {
   "cell_type": "markdown",
   "metadata": {},
   "source": [
    "# Creating cliques for companies"
   ]
  },
  {
   "cell_type": "code",
   "execution_count": 6,
   "metadata": {},
   "outputs": [],
   "source": [
    "n_companies = int(max(df_pro_contacts_adults.company_id))\n",
    "for company_id in range(n_companies):\n",
    "    df_company = df_pro_contacts_adults.loc[df_pro_contacts_adults.company_id == company_id]\n",
    "    company_employees_ids = list(df_company.adult_id)\n",
    "    \n",
    "    for edge in combinations(company_employees_ids, 2):\n",
    "        a = people[edge[0]]\n",
    "        b = people[edge[1]]\n",
    "        G.add_edge(a, b)\n",
    "        G[a][b][\"type\"] = \"company\"\n",
    "        G[a][b][\"id\"] = company_id"
   ]
  },
  {
   "cell_type": "code",
   "execution_count": 7,
   "metadata": {},
   "outputs": [
    {
     "data": {
      "text/html": [
       "<div>\n",
       "<style scoped>\n",
       "    .dataframe tbody tr th:only-of-type {\n",
       "        vertical-align: middle;\n",
       "    }\n",
       "\n",
       "    .dataframe tbody tr th {\n",
       "        vertical-align: top;\n",
       "    }\n",
       "\n",
       "    .dataframe thead th {\n",
       "        text-align: right;\n",
       "    }\n",
       "</style>\n",
       "<table border=\"1\" class=\"dataframe\">\n",
       "  <thead>\n",
       "    <tr style=\"text-align: right;\">\n",
       "      <th></th>\n",
       "      <th>adult_id</th>\n",
       "      <th>job_cat</th>\n",
       "      <th>pro_contacts</th>\n",
       "      <th>company_id</th>\n",
       "    </tr>\n",
       "    <tr>\n",
       "      <th>household_id</th>\n",
       "      <th></th>\n",
       "      <th></th>\n",
       "      <th></th>\n",
       "      <th></th>\n",
       "    </tr>\n",
       "  </thead>\n",
       "  <tbody>\n",
       "    <tr>\n",
       "      <td>1087</td>\n",
       "      <td>2699</td>\n",
       "      <td>Services_other</td>\n",
       "      <td>1317</td>\n",
       "      <td>250.0</td>\n",
       "    </tr>\n",
       "    <tr>\n",
       "      <td>1619</td>\n",
       "      <td>4024</td>\n",
       "      <td>Services_other</td>\n",
       "      <td>201</td>\n",
       "      <td>250.0</td>\n",
       "    </tr>\n",
       "    <tr>\n",
       "      <td>2458</td>\n",
       "      <td>5009</td>\n",
       "      <td>Services_other</td>\n",
       "      <td>714</td>\n",
       "      <td>250.0</td>\n",
       "    </tr>\n",
       "  </tbody>\n",
       "</table>\n",
       "</div>"
      ],
      "text/plain": [
       "              adult_id         job_cat  pro_contacts  company_id\n",
       "household_id                                                    \n",
       "1087              2699  Services_other          1317       250.0\n",
       "1619              4024  Services_other           201       250.0\n",
       "2458              5009  Services_other           714       250.0"
      ]
     },
     "execution_count": 7,
     "metadata": {},
     "output_type": "execute_result"
    }
   ],
   "source": [
    "df_company"
   ]
  },
  {
   "cell_type": "markdown",
   "metadata": {},
   "source": [
    "# Adding links for pro life outside the company"
   ]
  },
  {
   "cell_type": "code",
   "execution_count": 8,
   "metadata": {},
   "outputs": [],
   "source": [
    "for i, row in df_pro_contacts_adults.iterrows():\n",
    "    adult_id = row.adult_id\n",
    "    job_cat = row.job_cat\n",
    "    pro_contacts = row.pro_contacts\n",
    "    company_id = row.company_id\n",
    "    \n",
    "    company_employees_ids = list(df_pro_contacts_adults.loc[(df_pro_contacts_adults.company_id == company_id) &\\\n",
    "                                                            (df_pro_contacts_adults.adult_id != adult_id)].adult_id)\n",
    "\n",
    "    #TO DO\n",
    "        \n",
    "for i, row in df_pro_contacts_children.iterrows():\n",
    "    child_id = row.child_id\n",
    "    school_contacts = row.school_contacts\n",
    "    school_id = row.school_id\n",
    "    \n",
    "#     scool_pupils_ids = list(df_pro_contacts_children.loc[(df_pro_contacts_children.school_id == school_id) & (df_pro_contacts_adults.adult_id != adult_id)].adult_id)\n",
    "    # TO DO"
   ]
  },
  {
   "cell_type": "code",
   "execution_count": 9,
   "metadata": {},
   "outputs": [
    {
     "data": {
      "text/html": [
       "<div>\n",
       "<style scoped>\n",
       "    .dataframe tbody tr th:only-of-type {\n",
       "        vertical-align: middle;\n",
       "    }\n",
       "\n",
       "    .dataframe tbody tr th {\n",
       "        vertical-align: top;\n",
       "    }\n",
       "\n",
       "    .dataframe thead th {\n",
       "        text-align: right;\n",
       "    }\n",
       "</style>\n",
       "<table border=\"1\" class=\"dataframe\">\n",
       "  <thead>\n",
       "    <tr style=\"text-align: right;\">\n",
       "      <th></th>\n",
       "      <th>adult_id</th>\n",
       "      <th>job_cat</th>\n",
       "      <th>pro_contacts</th>\n",
       "      <th>company_id</th>\n",
       "    </tr>\n",
       "    <tr>\n",
       "      <th>household_id</th>\n",
       "      <th></th>\n",
       "      <th></th>\n",
       "      <th></th>\n",
       "      <th></th>\n",
       "    </tr>\n",
       "  </thead>\n",
       "  <tbody>\n",
       "    <tr>\n",
       "      <td>506</td>\n",
       "      <td>1245</td>\n",
       "      <td>Shops_other</td>\n",
       "      <td>9</td>\n",
       "      <td>101.0</td>\n",
       "    </tr>\n",
       "    <tr>\n",
       "      <td>745</td>\n",
       "      <td>1829</td>\n",
       "      <td>Services_other</td>\n",
       "      <td>998</td>\n",
       "      <td>101.0</td>\n",
       "    </tr>\n",
       "    <tr>\n",
       "      <td>1844</td>\n",
       "      <td>4395</td>\n",
       "      <td>Shops_other</td>\n",
       "      <td>4</td>\n",
       "      <td>101.0</td>\n",
       "    </tr>\n",
       "    <tr>\n",
       "      <td>3775</td>\n",
       "      <td>6933</td>\n",
       "      <td>Shops_other</td>\n",
       "      <td>13</td>\n",
       "      <td>101.0</td>\n",
       "    </tr>\n",
       "    <tr>\n",
       "      <td>3801</td>\n",
       "      <td>6959</td>\n",
       "      <td>Services_other</td>\n",
       "      <td>870</td>\n",
       "      <td>101.0</td>\n",
       "    </tr>\n",
       "  </tbody>\n",
       "</table>\n",
       "</div>"
      ],
      "text/plain": [
       "              adult_id         job_cat  pro_contacts  company_id\n",
       "household_id                                                    \n",
       "506               1245     Shops_other             9       101.0\n",
       "745               1829  Services_other           998       101.0\n",
       "1844              4395     Shops_other             4       101.0\n",
       "3775              6933     Shops_other            13       101.0\n",
       "3801              6959  Services_other           870       101.0"
      ]
     },
     "execution_count": 9,
     "metadata": {},
     "output_type": "execute_result"
    }
   ],
   "source": [
    "df_pro_contacts_adults.loc[(df_pro_contacts_adults.company_id == company_id)]"
   ]
  },
  {
   "cell_type": "code",
   "execution_count": 10,
   "metadata": {},
   "outputs": [
    {
     "data": {
      "text/plain": [
       "870"
      ]
     },
     "execution_count": 10,
     "metadata": {},
     "output_type": "execute_result"
    }
   ],
   "source": [
    "pro_contacts"
   ]
  },
  {
   "cell_type": "markdown",
   "metadata": {},
   "source": [
    "# Exporting the graph for visualization with Gephi"
   ]
  },
  {
   "cell_type": "code",
   "execution_count": 11,
   "metadata": {},
   "outputs": [],
   "source": [
    "nx.write_gexf(G, \"test.gexf\")"
   ]
  }
 ],
 "metadata": {
  "kernelspec": {
   "display_name": "Python 3",
   "language": "python",
   "name": "python3"
  },
  "language_info": {
   "codemirror_mode": {
    "name": "ipython",
    "version": 3
   },
   "file_extension": ".py",
   "mimetype": "text/x-python",
   "name": "python",
   "nbconvert_exporter": "python",
   "pygments_lexer": "ipython3",
   "version": "3.7.4"
  }
 },
 "nbformat": 4,
 "nbformat_minor": 4
}
